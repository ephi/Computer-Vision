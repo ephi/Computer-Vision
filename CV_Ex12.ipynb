{
 "cells": [
  {
   "cell_type": "markdown",
   "metadata": {},
   "source": [
    "# ConvNets\n",
    "\n",
    "Submitted by: Ephi Frankel\n"
   ]
  },
  {
   "cell_type": "code",
   "execution_count": 2,
   "metadata": {},
   "outputs": [
    {
     "name": "stderr",
     "output_type": "stream",
     "text": [
      "Using TensorFlow backend.\n"
     ]
    }
   ],
   "source": [
    "%matplotlib inline\n",
    "\n",
    "import matplotlib.pyplot as plt\n",
    "import numpy as np\n",
    "\n",
    "import keras\n",
    "from keras.models import Sequential, Model\n",
    "from keras.layers import Conv2D, MaxPooling2D\n",
    "from keras.layers import Activation, Dropout, Flatten, Dense\n",
    "from keras.optimizers import SGD, RMSprop \n",
    "from keras.datasets import fashion_mnist # data set\n",
    "from keras.applications.vgg16 import VGG16\n",
    "from keras.preprocessing.image import ImageDataGenerator\n",
    "# feel free to import whatever else you may need from keras..\n"
   ]
  },
  {
   "cell_type": "markdown",
   "metadata": {},
   "source": [
    "### Fashion-MNIST using ConvNets\n",
    "\n",
    "- Load the Fashion-MNIST dataset used in Ex.11.\n",
    "- Design and implement a convoulutional network to classify the datasets.\n",
    "- Train and test your network\n",
    "- Plot the results (as in Ex.11)\n",
    "\n",
    "Can you get better results than the fully-connected network from Ex.11 ?\n"
   ]
  },
  {
   "cell_type": "code",
   "execution_count": 13,
   "metadata": {},
   "outputs": [
    {
     "name": "stdout",
     "output_type": "stream",
     "text": [
      "X train shape:\n",
      "(60000, 28, 28)\n",
      "Network Summary\n",
      "_________________________________________________________________\n",
      "Layer (type)                 Output Shape              Param #   \n",
      "=================================================================\n",
      "conv2d_15 (Conv2D)           (None, 26, 26, 16)        160       \n",
      "_________________________________________________________________\n",
      "flatten_5 (Flatten)          (None, 10816)             0         \n",
      "_________________________________________________________________\n",
      "dense_9 (Dense)              (None, 84)                908628    \n",
      "_________________________________________________________________\n",
      "dropout_5 (Dropout)          (None, 84)                0         \n",
      "_________________________________________________________________\n",
      "dense_10 (Dense)             (None, 10)                850       \n",
      "=================================================================\n",
      "Total params: 909,638\n",
      "Trainable params: 909,638\n",
      "Non-trainable params: 0\n",
      "_________________________________________________________________\n",
      "Train on 60000 samples, validate on 10000 samples\n",
      "Epoch 1/10\n",
      "60000/60000 [==============================] - 52s 875us/step - loss: 0.6738 - acc: 0.7711 - val_loss: 0.4388 - val_acc: 0.8385\n",
      "Epoch 2/10\n",
      "60000/60000 [==============================] - 54s 893us/step - loss: 0.3987 - acc: 0.8588 - val_loss: 0.3608 - val_acc: 0.8692\n",
      "Epoch 3/10\n",
      "60000/60000 [==============================] - 53s 881us/step - loss: 0.3318 - acc: 0.8821 - val_loss: 0.3261 - val_acc: 0.8794\n",
      "Epoch 4/10\n",
      "60000/60000 [==============================] - 54s 894us/step - loss: 0.2946 - acc: 0.8945 - val_loss: 0.3042 - val_acc: 0.8876\n",
      "Epoch 5/10\n",
      "60000/60000 [==============================] - 48s 795us/step - loss: 0.2659 - acc: 0.9039 - val_loss: 0.2933 - val_acc: 0.8918\n",
      "Epoch 6/10\n",
      "60000/60000 [==============================] - 51s 844us/step - loss: 0.2429 - acc: 0.9126 - val_loss: 0.2846 - val_acc: 0.8967\n",
      "Epoch 7/10\n",
      "60000/60000 [==============================] - 50s 826us/step - loss: 0.2284 - acc: 0.9170 - val_loss: 0.2808 - val_acc: 0.8969\n",
      "Epoch 8/10\n",
      "60000/60000 [==============================] - 52s 866us/step - loss: 0.2099 - acc: 0.9237 - val_loss: 0.2722 - val_acc: 0.9035\n",
      "Epoch 9/10\n",
      "60000/60000 [==============================] - 51s 842us/step - loss: 0.1975 - acc: 0.9284 - val_loss: 0.2782 - val_acc: 0.9030\n",
      "Epoch 10/10\n",
      "60000/60000 [==============================] - 52s 870us/step - loss: 0.1861 - acc: 0.9333 - val_loss: 0.2802 - val_acc: 0.9026\n"
     ]
    }
   ],
   "source": [
    "# your code here...\n",
    "(x_train, y_train), (x_test, y_test) = fashion_mnist.load_data()\n",
    "print(\"X train shape:\")\n",
    "print(x_train.shape)\n",
    "x_train = x_train.reshape(x_train.shape[0],28, 28,1)\n",
    "x_test = x_test.reshape(x_test.shape[0],28, 28,1)\n",
    "x_train = x_train.astype('float32')\n",
    "x_test = x_test.astype('float32')\n",
    "x_test = x_test / 255\n",
    "x_train = x_train / 255\n",
    "y_train_one_hot = keras.utils.to_categorical(y_train,y_train.max()+1)\n",
    "y_test_one_hot = keras.utils.to_categorical(y_test,y_test.max()+1)\n",
    "#ConvNet - LeNet 5\n",
    "model = Sequential()\n",
    "model.add(Conv2D(16, kernel_size=(3, 3), activation='relu', input_shape=(28,28,1)))\n",
    "model.add(Flatten())\n",
    "model.add(Dense(84, activation='relu'))\n",
    "model.add(Dropout(0.25))\n",
    "model.add(Dense(10, activation='softmax'))\n",
    "print(\"Network Summary\")\n",
    "model.summary()\n",
    "model.compile(optimizer='rmsprop', loss='categorical_crossentropy', metrics=['accuracy'])\n",
    "histories = model.fit(x_train, y_train_one_hot, batch_size=300, epochs = 10,validation_data=(x_test,y_test_one_hot))"
   ]
  },
  {
   "cell_type": "code",
   "execution_count": 14,
   "metadata": {},
   "outputs": [
    {
     "data": {
      "image/png": "[encoded data removed]",
      "text/plain": [
       "<matplotlib.figure.Figure at 0x160835e0940>"
      ]
     },
     "metadata": {},
     "output_type": "display_data"
    },
    {
     "name": "stdout",
     "output_type": "stream",
     "text": [
      "maximal accuracy of current model is: 90.25999969244003%\n",
      "slight improvment over fully connected network.. 90% vs. ~88%, however I experienced significant increase in training time.\n"
     ]
    }
   ],
   "source": [
    "plt.figure(figsize=(10,5))\n",
    "plt.subplot(1,2,1)\n",
    "plt.plot(histories.history['acc'])\n",
    "plt.plot(histories.history['val_acc'])\n",
    "plt.title('model accuracy')\n",
    "plt.ylabel('accuracy')\n",
    "plt.xlabel('epoch')\n",
    "plt.legend(['train', 'test'], loc='upper left')\n",
    "plt.subplot(1,2,2)\n",
    "plt.plot(histories.history['loss'])\n",
    "plt.plot(histories.history['val_loss'])\n",
    "plt.title('model loss')\n",
    "plt.ylabel('loss')\n",
    "plt.xlabel('epoch')\n",
    "plt.legend(['train', 'test'], loc='upper left')\n",
    "plt.show()\n",
    "lst = len(histories.history['val_acc']) - 1\n",
    "print(\"maximal accuracy of current model is: {}%\".format(histories.history['val_acc'][lst]*100))\n",
    "print(\"slight improvement over fully connected network.. 90% vs. ~88%, however I experienced significant increase in training time.\")"
   ]
  },
  {
   "cell_type": "markdown",
   "metadata": {},
   "source": [
    "### Cats vs Dogs\n",
    "\n",
    "Based on the famous Kaggle competetion: https://www.kaggle.com/c/dogs-vs-cats/\n",
    "\n",
    "- Download the small dataset (300 cats and 300 dogs. The full dataset in kaggle has 125,000 images..).\n",
    "- Preprocess the images: resize to 224x244 and normalize values to [0.0 - 1.0]\n",
    "- Design and implement a convoulutional network to classify cats vs dogs\n",
    "- Train and test your network\n",
    "- Plot the results\n",
    "\n",
    "What is the maximal test accuracy you achieved?\n"
   ]
  },
  {
   "cell_type": "code",
   "execution_count": 4,
   "metadata": {},
   "outputs": [
    {
     "name": "stdout",
     "output_type": "stream",
     "text": [
      "Found 500 images belonging to 2 classes.\n",
      "Found 500 images belonging to 2 classes.\n"
     ]
    }
   ],
   "source": [
    "train_path = 'E:\\\\DEV\\\\HIT\\\\Computer Vision\\\\Ex. 12\\\\cats-and-dogs\\\\train' # fill the path to the train data (with 'cat' and 'dog' subfolders)\n",
    "\n",
    "train_batches = ImageDataGenerator(rescale=1./255).flow_from_directory(train_path, \n",
    "                                                                       target_size=(224,224), \n",
    "                                                                       classes=['dog', 'cat'], \n",
    "                                                                       batch_size=32)\n",
    "\n",
    "\n",
    "\n",
    "#train_imgs, train_labels = next(train_batches) # each time you call next() you get the next batch of images\n",
    "#print(imgs.shape)\n",
    "#print(labels.shape)\n",
    "test_path = 'E:\\\\DEV\\\\HIT\\\\Computer Vision\\\\Ex. 12\\\\cats-and-dogs\\\\test'\n",
    "\n",
    "test_batches = ImageDataGenerator(rescale=1./255).flow_from_directory(train_path, \n",
    "                                                                       target_size=(224,224), \n",
    "                                                                       classes=['dog', 'cat'], \n",
    "                                                                       batch_size=32)"
   ]
  },
  {
   "cell_type": "code",
   "execution_count": 4,
   "metadata": {},
   "outputs": [
    {
     "name": "stdout",
     "output_type": "stream",
     "text": [
      "Found 500 images belonging to 2 classes.\n",
      "Found 500 images belonging to 2 classes.\n",
      "Network Summary\n",
      "_________________________________________________________________\n",
      "Layer (type)                 Output Shape              Param #   \n",
      "=================================================================\n",
      "conv2d_3 (Conv2D)            (None, 222, 222, 4)       112       \n",
      "_________________________________________________________________\n",
      "max_pooling2d_1 (MaxPooling2 (None, 111, 111, 4)       0         \n",
      "_________________________________________________________________\n",
      "conv2d_4 (Conv2D)            (None, 109, 109, 8)       296       \n",
      "_________________________________________________________________\n",
      "max_pooling2d_2 (MaxPooling2 (None, 54, 54, 8)         0         \n",
      "_________________________________________________________________\n",
      "conv2d_5 (Conv2D)            (None, 52, 52, 8)         584       \n",
      "_________________________________________________________________\n",
      "flatten_3 (Flatten)          (None, 21632)             0         \n",
      "_________________________________________________________________\n",
      "dense_5 (Dense)              (None, 84)                1817172   \n",
      "_________________________________________________________________\n",
      "dropout_3 (Dropout)          (None, 84)                0         \n",
      "_________________________________________________________________\n",
      "dense_6 (Dense)              (None, 2)                 170       \n",
      "=================================================================\n",
      "Total params: 1,818,334\n",
      "Trainable params: 1,818,334\n",
      "Non-trainable params: 0\n",
      "_________________________________________________________________\n",
      "Epoch 1/10\n",
      "10/10 [==============================] - 400s 40s/step - loss: 1.6395 - acc: 0.5000 - val_loss: 0.7013 - val_acc: 0.5180\n",
      "Epoch 2/10\n",
      "10/10 [==============================] - 51s 5s/step - loss: 0.7008 - acc: 0.5420 - val_loss: 0.6462 - val_acc: 0.5540\n",
      "Epoch 3/10\n",
      "10/10 [==============================] - 49s 5s/step - loss: 0.6512 - acc: 0.6380 - val_loss: 0.5932 - val_acc: 0.6800\n",
      "Epoch 4/10\n",
      "10/10 [==============================] - 48s 5s/step - loss: 0.6283 - acc: 0.6780 - val_loss: 0.5374 - val_acc: 0.8700\n",
      "Epoch 5/10\n",
      "10/10 [==============================] - 48s 5s/step - loss: 0.5423 - acc: 0.7800 - val_loss: 0.4774 - val_acc: 0.8820\n",
      "Epoch 6/10\n",
      "10/10 [==============================] - 50s 5s/step - loss: 0.4956 - acc: 0.7960 - val_loss: 0.4810 - val_acc: 0.7160\n",
      "Epoch 7/10\n",
      "10/10 [==============================] - 53s 5s/step - loss: 0.4310 - acc: 0.8240 - val_loss: 0.3615 - val_acc: 0.8920\n",
      "Epoch 8/10\n",
      "10/10 [==============================] - 52s 5s/step - loss: 0.4296 - acc: 0.8200 - val_loss: 0.3028 - val_acc: 0.9280\n",
      "Epoch 9/10\n",
      "10/10 [==============================] - 55s 5s/step - loss: 0.3077 - acc: 0.9020 - val_loss: 0.2845 - val_acc: 0.9000\n",
      "Epoch 10/10\n",
      "10/10 [==============================] - 52s 5s/step - loss: 0.2749 - acc: 0.9060 - val_loss: 0.3054 - val_acc: 0.8740\n"
     ]
    }
   ],
   "source": [
    "# your code here..\n",
    "model = Sequential()\n",
    "model.add(Conv2D(4, kernel_size=(3, 3), activation='relu', input_shape=(224,224,3)))\n",
    "model.add(MaxPooling2D(pool_size=(2,2)))\n",
    "model.add(Conv2D(8, kernel_size=(3, 3), activation='relu'))\n",
    "model.add(MaxPooling2D(pool_size=(2,2)))\n",
    "model.add(Conv2D(8, kernel_size=(3, 3), activation='relu'))\n",
    "model.add(Flatten())\n",
    "model.add(Dense(84, activation='relu'))\n",
    "model.add(Dropout(0.25))\n",
    "model.add(Dense(2, activation='softmax'))\n",
    "print(\"Network Summary\")\n",
    "model.summary()\n",
    "model.compile(optimizer='rmsprop', loss='categorical_crossentropy', metrics=['accuracy'])\n",
    "histories = model.fit_generator(train_batches, epochs = 10,validation_data=test_batches)"
   ]
  },
  {
   "cell_type": "code",
   "execution_count": 5,
   "metadata": {},
   "outputs": [
    {
     "data": {
      "image/png": "[encoded data removed]",
      "text/plain": [
       "<matplotlib.figure.Figure at 0x298821c0860>"
      ]
     },
     "metadata": {},
     "output_type": "display_data"
    },
    {
     "name": "stdout",
     "output_type": "stream",
     "text": [
      "maximal accuracy of current model is: 87.39999890327454%\n"
     ]
    }
   ],
   "source": [
    "plt.figure(figsize=(10,5))\n",
    "plt.subplot(1,2,1)\n",
    "plt.plot(histories.history['acc'])\n",
    "plt.plot(histories.history['val_acc'])\n",
    "plt.title('model accuracy')\n",
    "plt.ylabel('accuracy')\n",
    "plt.xlabel('epoch')\n",
    "plt.legend(['train', 'test'], loc='upper left')\n",
    "plt.subplot(1,2,2)\n",
    "plt.plot(histories.history['loss'])\n",
    "plt.plot(histories.history['val_loss'])\n",
    "plt.title('model loss')\n",
    "plt.ylabel('loss')\n",
    "plt.xlabel('epoch')\n",
    "plt.legend(['train', 'test'], loc='upper left')\n",
    "plt.show()\n",
    "lst = len(histories.history['val_acc']) - 1\n",
    "print(\"maximal accuracy of current model is: {}%\".format(histories.history['val_acc'][lst]*100))"
   ]
  },
  {
   "cell_type": "markdown",
   "metadata": {},
   "source": [
    "### Transfer learning (using VGG-16)\n",
    "\n",
    "- Load the pre-trained VGG16 model. \n",
    "- Freeze all the paramers of the model (by setting the `trainable` field in each layer to  `false`).\n",
    "- Remove the last layer from the model, and replace it by a suitable output layer (with two outputs: for 'cat' and 'dog').\n",
    "- Train and test the network (only the last layer parameters)\n",
    "- Plot the results\n",
    "\n",
    "What is the maximal test accuracy you achieved?\n"
   ]
  },
  {
   "cell_type": "code",
   "execution_count": null,
   "metadata": {},
   "outputs": [
    {
     "name": "stdout",
     "output_type": "stream",
     "text": [
      "Loaded VGG16\n",
      "Network summary\n",
      "_________________________________________________________________\n",
      "Layer (type)                 Output Shape              Param #   \n",
      "=================================================================\n",
      "input_1 (InputLayer)         (None, 224, 224, 3)       0         \n",
      "_________________________________________________________________\n",
      "block1_conv1 (Conv2D)        (None, 224, 224, 64)      1792      \n",
      "_________________________________________________________________\n",
      "block1_conv2 (Conv2D)        (None, 224, 224, 64)      36928     \n",
      "_________________________________________________________________\n",
      "block1_pool (MaxPooling2D)   (None, 112, 112, 64)      0         \n",
      "_________________________________________________________________\n",
      "block2_conv1 (Conv2D)        (None, 112, 112, 128)     73856     \n",
      "_________________________________________________________________\n",
      "block2_conv2 (Conv2D)        (None, 112, 112, 128)     147584    \n",
      "_________________________________________________________________\n",
      "block2_pool (MaxPooling2D)   (None, 56, 56, 128)       0         \n",
      "_________________________________________________________________\n",
      "block3_conv1 (Conv2D)        (None, 56, 56, 256)       295168    \n",
      "_________________________________________________________________\n",
      "block3_conv2 (Conv2D)        (None, 56, 56, 256)       590080    \n",
      "_________________________________________________________________\n",
      "block3_conv3 (Conv2D)        (None, 56, 56, 256)       590080    \n",
      "_________________________________________________________________\n",
      "block3_pool (MaxPooling2D)   (None, 28, 28, 256)       0         \n",
      "_________________________________________________________________\n",
      "block4_conv1 (Conv2D)        (None, 28, 28, 512)       1180160   \n",
      "_________________________________________________________________\n",
      "block4_conv2 (Conv2D)        (None, 28, 28, 512)       2359808   \n",
      "_________________________________________________________________\n",
      "block4_conv3 (Conv2D)        (None, 28, 28, 512)       2359808   \n",
      "_________________________________________________________________\n",
      "block4_pool (MaxPooling2D)   (None, 14, 14, 512)       0         \n",
      "_________________________________________________________________\n",
      "block5_conv1 (Conv2D)        (None, 14, 14, 512)       2359808   \n",
      "_________________________________________________________________\n",
      "block5_conv2 (Conv2D)        (None, 14, 14, 512)       2359808   \n",
      "_________________________________________________________________\n",
      "block5_conv3 (Conv2D)        (None, 14, 14, 512)       2359808   \n",
      "_________________________________________________________________\n",
      "block5_pool (MaxPooling2D)   (None, 7, 7, 512)         0         \n",
      "_________________________________________________________________\n",
      "flatten (Flatten)            (None, 25088)             0         \n",
      "_________________________________________________________________\n",
      "dense_1 (Dense)              (None, 2)                 50178     \n",
      "=================================================================\n",
      "Total params: 14,764,866\n",
      "Trainable params: 50,178\n",
      "Non-trainable params: 14,714,688\n",
      "_________________________________________________________________\n",
      "Epoch 1/10\n"
     ]
    }
   ],
   "source": [
    "# your code here..\n",
    "model = VGG16()\n",
    "print(\"Loaded VGG16\")\n",
    "for layer in model.layers:\n",
    "    layer.trainable = False\n",
    "model.layers.pop()    \n",
    "model.layers.pop()\n",
    "model.layers.pop()\n",
    "x = model.layers[-1].output\n",
    "predictions = Dense(2, activation=\"softmax\")(x)\n",
    "model_final = Model(inputs = model.input,outputs = predictions)\n",
    "print(\"Network summary\")\n",
    "model_final.summary()\n",
    "model_final.compile(optimizer='rmsprop', loss='categorical_crossentropy', metrics=['accuracy'])\n",
    "histories = model_final.fit_generator(train_batches, epochs = 10,validation_data=test_batches)"
   ]
  },
  {
   "cell_type": "markdown",
   "metadata": {},
   "source": [
    "## Good Luck!"
   ]
  }
 ],
 "metadata": {
  "kernelspec": {
   "display_name": "Python 3",
   "language": "python",
   "name": "python3"
  },
  "language_info": {
   "codemirror_mode": {
    "name": "ipython",
    "version": 3
   },
   "file_extension": ".py",
   "mimetype": "text/x-python",
   "name": "python",
   "nbconvert_exporter": "python",
   "pygments_lexer": "ipython3",
   "version": "3.6.4"
  }
 },
 "nbformat": 4,
 "nbformat_minor": 2
}
